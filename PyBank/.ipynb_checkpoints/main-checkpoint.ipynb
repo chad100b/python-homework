{
 "cells": [
  {
   "cell_type": "code",
   "execution_count": 1,
   "id": "d7b9cd31-d091-4ad9-8b46-11e33a1d4474",
   "metadata": {},
   "outputs": [],
   "source": [
    "from pathlib import Path\n",
    "import csv\n",
    "#imports for exercise"
   ]
  },
  {
   "cell_type": "code",
   "execution_count": 2,
   "id": "41ef4a95-61ea-4f5e-89cd-cd74aa6f01f0",
   "metadata": {},
   "outputs": [],
   "source": [
    "filepath = Path(\"budget_data.csv\")\n",
    "#created path to data file"
   ]
  },
  {
   "cell_type": "code",
   "execution_count": 3,
   "id": "579d5965-4aed-485a-840a-f20dc6c05f68",
   "metadata": {},
   "outputs": [],
   "source": [
    "profit_loss_net_change = []\n",
    "total_months = 0\n",
    "net_total_amount = 0\n",
    "net_change = 0\n",
    "avg_changes = 0\n",
    "increasepl = [\"\",0]\n",
    "decreasepl = [\"\",99999999]\n",
    "#created my variables, and two lists, that I will be using to calculate and analys the data\n",
    "\n",
    "with open(filepath, \"r\") as file:\n",
    "    csvreader = csv.reader(file,delimiter=\",\")\n",
    "    header = next(csvreader)\n",
    "#used 'with open' and 'csvreader' to open the data file and read the csv file\n",
    "    \n",
    "    first_row = next(csvreader)\n",
    "    total_months += 1\n",
    "    net_total_amount += int(first_row[1])\n",
    "    prev_amount = int(first_row[1])\n",
    "#addressed the header by 'next', started month count at 1, net_total_amount set to index [1] and output as an 'int'\n",
    "\n",
    "    \n",
    "    for row in csvreader:\n",
    "        # print(row[1])\n",
    "        # pl.append(int(row[1]))\n",
    "        total_months += 1\n",
    "        net_total_amount += int(row[1])\n",
    "#started a 'for' loop and again output will be an 'int'        \n",
    "        net_change = int(row[1]) - prev_amount\n",
    "        profit_loss_net_change.append(net_change)\n",
    "        prev_amount = int(row[1])\n",
    "#the logic here is to calculate the difference from the previous net_change or row and append that change to the list profit_loss_net_change \n",
    "        if net_change > increasepl[1]:\n",
    "            increasepl[1] = (net_change)\n",
    "            increasepl[0] = (row[0])  \n",
    "#this is the logic/code to determine the greatest net change\n",
    "#used if then statement to check if the change was greater than the previous int within the increasepl list i created for the entirety of the loop           \n",
    "        if net_change < decreasepl[1]:\n",
    "            decreasepl[1] = net_change\n",
    "            decreasepl[0] = row[0]\n",
    "#same logic as greated net change just the inverse, or greatest decrease\n",
    "#this is the reason i set the two lists at [\"\",0] for increase and [\"\",999999] for decrease\n",
    "        \n",
    "avg_change = round(sum(profit_loss_net_change) / len(profit_loss_net_change),2)\n",
    "\n",
    "#print(total_months)\n",
    "#print(net_total_amount)\n",
    "#print(avg_change)\n",
    "#print(profit_loss_net_change)\n",
    "#print(increasepl)\n",
    "#print(decreasepl)"
   ]
  },
  {
   "cell_type": "code",
   "execution_count": 6,
   "id": "e54f0448-bfb7-478f-94a2-c7fa549f8ca3",
   "metadata": {},
   "outputs": [],
   "source": [
    "out_put = Path(\"Analysis_File.txt\")\n",
    "with open(out_put, \"w\") as f:\n",
    "    f.write(\"Financial Analysis \\n\")\n",
    "    f.write(\"----------------------------- \\n\")\n",
    "    f.write(f\"Total Months: ${total_months} \\n\")\n",
    "    f.write(f\"Total: ${net_total_amount} \\n\")\n",
    "    f.write(f\"Average Change: ${avg_change} \\n\")\n",
    "    f.write(f\"Greatest Increase in Profits: {increasepl[0]}, (${increasepl[1]}) \\n\")\n",
    "    f.write(f\"Greatest Decrease in Profits: {decreasepl[0]}, (${decreasepl[1]})\")\n",
    "#used f.write to print the analysis in the manner required by the instructions. I did not add the leading '''text or the trailing ''' "
   ]
  },
  {
   "cell_type": "code",
   "execution_count": 36,
   "id": "77c83cd5-18a1-48a7-b8b5-c4f1231f7271",
   "metadata": {},
   "outputs": [],
   "source": []
  },
  {
   "cell_type": "code",
   "execution_count": null,
   "id": "b5911b4a-7786-4396-975c-b7ad6fda8e3e",
   "metadata": {},
   "outputs": [],
   "source": []
  }
 ],
 "metadata": {
  "kernelspec": {
   "display_name": "Python 3 (ipykernel)",
   "language": "python",
   "name": "python3"
  },
  "language_info": {
   "codemirror_mode": {
    "name": "ipython",
    "version": 3
   },
   "file_extension": ".py",
   "mimetype": "text/x-python",
   "name": "python",
   "nbconvert_exporter": "python",
   "pygments_lexer": "ipython3",
   "version": "3.7.11"
  }
 },
 "nbformat": 4,
 "nbformat_minor": 5
}
